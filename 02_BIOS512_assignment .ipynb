{
 "cells": [
  {
   "cell_type": "code",
   "execution_count": 2,
   "metadata": {},
   "outputs": [
    {
     "name": "stderr",
     "output_type": "stream",
     "text": [
      "── \u001b[1mAttaching packages\u001b[22m ─────────────────────────────────────── tidyverse 1.2.1 ──\n",
      "\n",
      "\u001b[32m✔\u001b[39m \u001b[34mggplot2\u001b[39m 3.2.0     \u001b[32m✔\u001b[39m \u001b[34mpurrr  \u001b[39m 0.3.2\n",
      "\u001b[32m✔\u001b[39m \u001b[34mtibble \u001b[39m 2.1.3     \u001b[32m✔\u001b[39m \u001b[34mdplyr  \u001b[39m 0.8.3\n",
      "\u001b[32m✔\u001b[39m \u001b[34mtidyr  \u001b[39m 0.8.3     \u001b[32m✔\u001b[39m \u001b[34mstringr\u001b[39m 1.4.0\n",
      "\u001b[32m✔\u001b[39m \u001b[34mreadr  \u001b[39m 1.3.1     \u001b[32m✔\u001b[39m \u001b[34mforcats\u001b[39m 0.4.0\n",
      "\n",
      "── \u001b[1mConflicts\u001b[22m ────────────────────────────────────────── tidyverse_conflicts() ──\n",
      "\u001b[31m✖\u001b[39m \u001b[34mdplyr\u001b[39m::\u001b[32mfilter()\u001b[39m masks \u001b[34mstats\u001b[39m::filter()\n",
      "\u001b[31m✖\u001b[39m \u001b[34mdplyr\u001b[39m::\u001b[32mlag()\u001b[39m    masks \u001b[34mstats\u001b[39m::lag()\n",
      "\n"
     ]
    }
   ],
   "source": [
    "library('tidyverse')\n",
    "library('gapminder')\n",
    "library('ggrepel')\n",
    "library('patchwork')"
   ]
  },
  {
   "cell_type": "markdown",
   "metadata": {},
   "source": [
    "Recreate this figure as best you can using the techniques we have learned:"
   ]
  },
  {
   "cell_type": "markdown",
   "metadata": {},
   "source": [
    "![](02_example.png)"
   ]
  },
  {
   "cell_type": "markdown",
   "metadata": {},
   "source": [
    "Work with the gapminder dataset. The following will give you four tables.\n",
    "1. A table for 1952 data.\n",
    "1. A table for 2002 data.\n",
    "1. A table for just Kuwait in 1952. \n",
    "1. A table for just Kuwait in 2002. "
   ]
  },
  {
   "cell_type": "code",
   "execution_count": 3,
   "metadata": {},
   "outputs": [],
   "source": [
    "df.1952 = gapminder %>% filter(year == 1952)\n",
    "df.2002 = gapminder %>% filter(year == 2002)\n",
    "df.1952.kuwait = df.1952 %>% filter(country == 'Kuwait') \n",
    "df.2002.kuwait = df.2002 %>% filter(country == 'Kuwait') "
   ]
  },
  {
   "cell_type": "markdown",
   "metadata": {},
   "source": [
    "## Hints!"
   ]
  },
  {
   "cell_type": "markdown",
   "metadata": {},
   "source": [
    "These snippets will help you to get the legends and scales as they're set in the example.\n",
    "\n",
    "- This is how the size scale is set:\n",
    "\n",
    "```R\n",
    "p = p + scale_size(breaks = seq(1e+5, 1.5e+9, 3e+8), \n",
    "                   limits = c(1e+4, 1.5e+9),\n",
    "                   range = c(1, 10), labels = scales::comma)\n",
    "```  "
   ]
  },
  {
   "cell_type": "markdown",
   "metadata": {},
   "source": [
    "- This is how the `y-axis` is fixed for each plot:\n",
    "\n",
    "```R\n",
    "p = p + ylim(c(27, 82))\n",
    "```"
   ]
  },
  {
   "cell_type": "markdown",
   "metadata": {},
   "source": [
    "- This will set the `x-axis` to a log-scale:\n",
    "\n",
    "```R\n",
    "p = p + scale_x_log10()\n",
    "```"
   ]
  },
  {
   "cell_type": "markdown",
   "metadata": {},
   "source": [
    "- The `annotate` function is useful for adding text to a figure that's not mapped to data. [annotate documentation](https://ggplot2.tidyverse.org/reference/annotate.html). "
   ]
  },
  {
   "cell_type": "markdown",
   "metadata": {},
   "source": [
    "- Don't forget about third-party packages like `ggrepel` and `patchwork`!"
   ]
  },
  {
   "cell_type": "code",
   "execution_count": 9,
   "metadata": {},
   "outputs": [
    {
     "ename": "ERROR",
     "evalue": "Error in parse(text = x, srcfile = src): <text>:17:1: unexpected symbol\n16: p2 = p2 + annotate(\"text\", x = 1e+5, y = 30,label = \"\"#）#, size =15, color=\"grey70\")#\n17: p2\n    ^\n",
     "output_type": "error",
     "traceback": [
      "Error in parse(text = x, srcfile = src): <text>:17:1: unexpected symbol\n16: p2 = p2 + annotate(\"text\", x = 1e+5, y = 30,label = \"\"#）#, size =15, color=\"grey70\")#\n17: p2\n    ^\nTraceback:\n"
     ]
    }
   ],
   "source": [
    "\n",
    "options(repr.plot.res = 300, repr.plot.height = 6, repr.plot.width = 14)\n",
    "\n",
    "p = ggplot(df.1952, aes(x = gdpPercap, y = lifeExp, color=continent)) + geom_point(aes(size=pop),show.legend=FALSE, alpha=0.65) + xlab(\"GDP per capita\") + ylab(\"Life expectancy, years\") + scale_size(breaks = seq(1e+5, 1.5e+9, 3e+8), limits = c(1e+4, 1.5e+9),range = c(1, 10), labels = scales::comma) + ylim(c(27, 82)) + scale_x_log10()\n",
    "\n",
    "gapminder_filtered = df.1952 %>% filter(country == 'Kuwait')\n",
    "\n",
    "p = p + geom_text_repel(data= gapminder_filtered,nudge_y = 1,nudge_x = -0.5,segment.size = 0.2, size = 5,segment.color = \"grey55\",aes(label = country), show.legend = FALSE, color=\"grey55\")+ scale_color_manual(values = c('red1', 'cornflowerblue', 'green4', 'darkorchid4','orchid4')) + annotate(\"text\", x = 50000, y = 30, label = \"1952\", size =15, color=\"grey70\")\n",
    "\n",
    "\n",
    "p2 = ggplot(df.2002, aes(x = gdpPercap, y = lifeExp, color=continent)) + geom_point(aes(size=pop), alpha=0.65) + labs(color=\"Continent\") + labs(size =\"Population Size\")+ xlab(\"GDP per capita\")\n",
    "p2 = p2 + ylab(\" \")+ scale_size(breaks = seq(1e+3, 1.5e+9, 3e+8), limits = c(1e+3, 1.5e+9),range = c(1, 10), labels = scales::comma)+ ylim(c(27, 82))+ scale_x_log10()\n",
    "gapminder_filtered = df.2002 %>% filter(country == 'Kuwait')\n",
    "\n",
    "p2 = p2 + geom_text_repel(data= gapminder_filtered,nudge_y = -5.5,nudge_x = 0.1,segment.size = 0.2,size = 5,segment.color = \"grey55\",aes(label = country), show.legend=FALSE, color=\"grey55\") + scale_color_manual(values = c('red1', 'cornflowerblue', 'green4', 'darkorchid4','orchid4'))\n",
    "p2 = p2 + annotate(\"text\", x = 1e+5, y = 30,label = \"\"）#, size =15, color=\"grey70\")#\n",
    "p2 = p2 + annotate(\"text\", x = 4e+4, y = 30,label = \"2002\", size =15, color=\"grey70\")\n",
    "\n",
    "p + p2"
   ]
  }
 ],
 "metadata": {
  "kernelspec": {
   "display_name": "R",
   "language": "R",
   "name": "ir"
  },
  "language_info": {
   "codemirror_mode": "r",
   "file_extension": ".r",
   "mimetype": "text/x-r-source",
   "name": "R",
   "pygments_lexer": "r",
   "version": "3.6.0"
  }
 },
 "nbformat": 4,
 "nbformat_minor": 4
}
